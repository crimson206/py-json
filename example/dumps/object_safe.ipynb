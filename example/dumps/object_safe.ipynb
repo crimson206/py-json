{
 "cells": [
  {
   "cell_type": "markdown",
   "metadata": {},
   "source": [
    "## Dumps Object Safe\n"
   ]
  },
  {
   "cell_type": "markdown",
   "metadata": {},
   "source": [
    "### Setup\n",
    "\n",
    "Import the necessary modules and prepare test data."
   ]
  },
  {
   "cell_type": "code",
   "execution_count": 1,
   "metadata": {},
   "outputs": [],
   "source": [
    "from crimson.py_json.dumps import dumps_object_safe, OutputHandler\n",
    "from collections import OrderedDict\n",
    "\n",
    "mixed_key_dict = {\n",
    "    \"name\": \"Hong Gil-dong\",\n",
    "    123: \"integer key\",\n",
    "    4.5: \"float key\",\n",
    "    True: \"boolean key\"\n",
    "}\n",
    "\n",
    "# 2. Data containing non-serializable objects\n",
    "complex_data = {\n",
    "    \"function\": lambda x: x*2,  # Functions cannot be serialized\n",
    "    \"ordered_dict\": OrderedDict([('a', 1), ('b', 2)]),\n",
    "    \"set_data\": {1, 2, 3, 4}  # Sets cannot be serialized\n",
    "}\n",
    "\n",
    "# 3. Nested structure\n",
    "nested_data = {\n",
    "    \"user\": {\n",
    "        \"info\": {\n",
    "            \"personal\": {\n",
    "                \"name\": \"Kim Chul-soo\",\n",
    "                \"age\": 30,\n",
    "                \"skills\": [\"Python\", \"Data Analysis\"]\n",
    "            }\n",
    "        },\n",
    "        1234: {  # Integer key\n",
    "            \"account_balance\": 50000.75\n",
    "        }\n",
    "    },\n",
    "    \"metadata\": complex_data,\n",
    "    \"mixed_keys\": mixed_key_dict\n",
    "}\n"
   ]
  },
  {
   "cell_type": "markdown",
   "metadata": {},
   "source": [
    "### Output Handler\n",
    "\n",
    "The OutputHandler will be frequently used.\n",
    "\n",
    "It allows dumps_object_safe to perform four distinct roles:\n",
    "\n",
    "1. return_str: Returns a string, similar to the standard json.dumps.\n",
    "2. return_dict: Returns the original dictionary after converting only the object parts to strings.\n",
    "3. print: Directly prints the output instead of returning it.\n",
    "4. save_file: Directly creates a file with the output instead of returning it.\n",
    "\n",
    "We'll examine actual examples below.\n"
   ]
  },
  {
   "cell_type": "markdown",
   "metadata": {},
   "source": [
    "### Default\n",
    "\n",
    "This is the most basic usage example.\n",
    "\n",
    "The code shows the default behavior of `dumps_object_safe` which simply converts the nested data structure to a JSON string with 2-space indentation."
   ]
  },
  {
   "cell_type": "code",
   "execution_count": 2,
   "metadata": {},
   "outputs": [
    {
     "data": {
      "text/plain": [
       "'{\\n  \"user\": {\\n    \"info\": {\\n      \"personal\": {\\n        \"name\": \"Kim Chul-soo\",\\n        \"age\": 30,\\n        \"skills\": [\\n          \"Python\",\\n          \"Data Analysis\"\\n        ]\\n      }\\n    },\\n    \"1234\": {\\n      \"account_balance\": 50000.75\\n    }\\n  },\\n  \"metadata\": {\\n    \"function\": \"<function <lambda> at 0x7ff66831a840>\",\\n    \"ordered_dict\": {\\n      \"a\": 1,\\n      \"b\": 2\\n    },\\n    \"set_data\": \"{1, 2, 3, 4}\"\\n  },\\n  \"mixed_keys\": {\\n    \"name\": \"Hong Gil-dong\",\\n    \"123\": \"integer key\",\\n    \"4.5\": \"float key\",\\n    \"True\": \"boolean key\"\\n  }\\n}'"
      ]
     },
     "execution_count": 2,
     "metadata": {},
     "output_type": "execute_result"
    }
   ],
   "source": [
    "# NBVAL_SKIP\n",
    "\n",
    "data = dumps_object_safe(\n",
    "    nested_data, \n",
    ")\n",
    "data"
   ]
  },
  {
   "cell_type": "markdown",
   "metadata": {},
   "source": [
    "### Remove Addresses\n",
    "\n",
    "When objects are converted to strings, they get unique addresses that serve as IDs, like:\n",
    "- `\"<function <lambda> at 0x7f471e4e2e80>\"`\n",
    "\n",
    "If you want consistent output, these addresses can be problematic.\n",
    "In such cases, you can remove these object addresses.\n",
    "\n",
    "You can search for \"function <lambda>\" to see the difference."
   ]
  },
  {
   "cell_type": "code",
   "execution_count": 3,
   "metadata": {},
   "outputs": [
    {
     "name": "stdout",
     "output_type": "stream",
     "text": [
      "{\n",
      "  \"user\": {\n",
      "    \"info\": {\n",
      "      \"personal\": {\n",
      "        \"name\": \"Kim Chul-soo\",\n",
      "        \"age\": 30,\n",
      "        \"skills\": [\n",
      "          \"Python\",\n",
      "          \"Data Analysis\"\n",
      "        ]\n",
      "      }\n",
      "    },\n",
      "    \"1234\": {\n",
      "      \"account_balance\": 50000.75\n",
      "    }\n",
      "  },\n",
      "  \"metadata\": {\n",
      "    \"function\": \"<function <lambda> at 0x7ff66831a840>\",\n",
      "    \"ordered_dict\": {\n",
      "      \"a\": 1,\n",
      "      \"b\": 2\n",
      "    },\n",
      "    \"set_data\": \"{1, 2, 3, 4}\"\n",
      "  },\n",
      "  \"mixed_keys\": {\n",
      "    \"name\": \"Hong Gil-dong\",\n",
      "    \"123\": \"integer key\",\n",
      "    \"4.5\": \"float key\",\n",
      "    \"True\": \"boolean key\"\n",
      "  }\n",
      "}\n"
     ]
    }
   ],
   "source": [
    "# NBVAL_SKIP\n",
    "\n",
    "# Using the dumps_object_safe function\n",
    "json_str = dumps_object_safe(nested_data, indent=2, remove_addresses= False, output_handler=OutputHandler(mode=\"print\"))\n",
    "json_str\n"
   ]
  },
  {
   "cell_type": "code",
   "execution_count": 4,
   "metadata": {},
   "outputs": [
    {
     "name": "stdout",
     "output_type": "stream",
     "text": [
      "{\n",
      "  \"user\": {\n",
      "    \"info\": {\n",
      "      \"personal\": {\n",
      "        \"name\": \"Kim Chul-soo\",\n",
      "        \"age\": 30,\n",
      "        \"skills\": [\n",
      "          \"Python\",\n",
      "          \"Data Analysis\"\n",
      "        ]\n",
      "      }\n",
      "    },\n",
      "    \"1234\": {\n",
      "      \"account_balance\": 50000.75\n",
      "    }\n",
      "  },\n",
      "  \"metadata\": {\n",
      "    \"function\": \"<function <lambda>>\",\n",
      "    \"ordered_dict\": {\n",
      "      \"a\": 1,\n",
      "      \"b\": 2\n",
      "    },\n",
      "    \"set_data\": \"{1, 2, 3, 4}\"\n",
      "  },\n",
      "  \"mixed_keys\": {\n",
      "    \"name\": \"Hong Gil-dong\",\n",
      "    \"123\": \"integer key\",\n",
      "    \"4.5\": \"float key\",\n",
      "    \"True\": \"boolean key\"\n",
      "  }\n",
      "}\n"
     ]
    }
   ],
   "source": [
    "json_str = dumps_object_safe(\n",
    "    nested_data, \n",
    "    indent=2, \n",
    "    remove_addresses = True,\n",
    "    output_handler=OutputHandler(mode=\"print\")\n",
    ")\n",
    "json_str\n"
   ]
  },
  {
   "cell_type": "markdown",
   "metadata": {},
   "source": [
    "### Save File\n",
    "\n",
    "Instead of having a separate save function, you can transform the dumps_object_safe function into a save file function by manipulating the OutputHandler."
   ]
  },
  {
   "cell_type": "code",
   "execution_count": 5,
   "metadata": {},
   "outputs": [],
   "source": [
    "dumps_object_safe(nested_data, indent=2, output_handler=OutputHandler(mode=\"save_file\", save_file_path=\"nested_data.json\"))"
   ]
  },
  {
   "cell_type": "markdown",
   "metadata": {},
   "source": [
    "### \n",
    "\n",
    "### Standard JSON Limitations\n",
    "\n",
    "The json module has some built-in capabilities to handle various situations, but it cannot process our prepared data with the default setting. The `dumps_object_safe` function can be viewed as a convenient shortcut based on the json module that easily handles these complex scenarios."
   ]
  },
  {
   "cell_type": "code",
   "execution_count": 6,
   "metadata": {},
   "outputs": [
    {
     "name": "stdout",
     "output_type": "stream",
     "text": [
      "Error when using standard json.dumps:\n",
      "Object of type function is not JSON serializable\n"
     ]
    }
   ],
   "source": [
    "import json\n",
    "\n",
    "try:\n",
    "    standard_json = json.dumps(nested_data, indent=2)\n",
    "except TypeError as e:\n",
    "    print(f\"Error when using standard json.dumps:\\n{e}\")"
   ]
  }
 ],
 "metadata": {
  "kernelspec": {
   "display_name": "py-json",
   "language": "python",
   "name": "python3"
  },
  "language_info": {
   "codemirror_mode": {
    "name": "ipython",
    "version": 3
   },
   "file_extension": ".py",
   "mimetype": "text/x-python",
   "name": "python",
   "nbconvert_exporter": "python",
   "pygments_lexer": "ipython3",
   "version": "3.12.9"
  }
 },
 "nbformat": 4,
 "nbformat_minor": 2
}
