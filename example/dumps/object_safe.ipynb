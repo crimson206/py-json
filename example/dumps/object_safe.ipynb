{
 "cells": [
  {
   "cell_type": "markdown",
   "metadata": {},
   "source": [
    "## Dumps Object Safe"
   ]
  },
  {
   "cell_type": "code",
   "execution_count": 14,
   "metadata": {},
   "outputs": [],
   "source": [
    "from crimson.py_json.dumps import dumps_object_safe, OutputHandler"
   ]
  },
  {
   "cell_type": "code",
   "execution_count": 15,
   "metadata": {},
   "outputs": [
    {
     "name": "stdout",
     "output_type": "stream",
     "text": [
      "{\n",
      "  \"user\": {\n",
      "    \"info\": {\n",
      "      \"personal\": {\n",
      "        \"name\": \"Kim Chul-soo\",\n",
      "        \"age\": 30,\n",
      "        \"skills\": [\n",
      "          \"Python\",\n",
      "          \"Data Analysis\"\n",
      "        ]\n",
      "      }\n",
      "    },\n",
      "    \"1234\": {\n",
      "      \"account_balance\": 50000.75\n",
      "    }\n",
      "  },\n",
      "  \"metadata\": {\n",
      "    \"datetime_obj\": \"2025-03-09 11:17:20.057951\",\n",
      "    \"function\": \"<function <lambda> at 0x7fa709887420>\",\n",
      "    \"ordered_dict\": {\n",
      "      \"a\": 1,\n",
      "      \"b\": 2\n",
      "    },\n",
      "    \"set_data\": \"{1, 2, 3, 4}\"\n",
      "  },\n",
      "  \"mixed_keys\": {\n",
      "    \"name\": \"Hong Gil-dong\",\n",
      "    \"123\": \"integer key\",\n",
      "    \"4.5\": \"float key\",\n",
      "    \"True\": \"boolean key\"\n",
      "  }\n",
      "}\n"
     ]
    }
   ],
   "source": [
    "from datetime import datetime\n",
    "from collections import OrderedDict\n",
    "\n",
    "mixed_key_dict = {\n",
    "    \"name\": \"Hong Gil-dong\",\n",
    "    123: \"integer key\",\n",
    "    4.5: \"float key\",\n",
    "    True: \"boolean key\"\n",
    "}\n",
    "\n",
    "# 2. Data containing non-serializable objects\n",
    "complex_data = {\n",
    "    \"datetime_obj\": datetime.now(),\n",
    "    \"function\": lambda x: x*2,  # Functions cannot be serialized\n",
    "    \"ordered_dict\": OrderedDict([('a', 1), ('b', 2)]),\n",
    "    \"set_data\": {1, 2, 3, 4}  # Sets cannot be serialized\n",
    "}\n",
    "\n",
    "# 3. Nested structure\n",
    "nested_data = {\n",
    "    \"user\": {\n",
    "        \"info\": {\n",
    "            \"personal\": {\n",
    "                \"name\": \"Kim Chul-soo\",\n",
    "                \"age\": 30,\n",
    "                \"skills\": [\"Python\", \"Data Analysis\"]\n",
    "            }\n",
    "        },\n",
    "        1234: {  # Integer key\n",
    "            \"account_balance\": 50000.75\n",
    "        }\n",
    "    },\n",
    "    \"metadata\": complex_data,\n",
    "    \"mixed_keys\": mixed_key_dict\n",
    "}\n",
    "\n",
    "# Using the dumps_object_safe function\n",
    "json_str = dumps_object_safe(nested_data, indent=2, output_handler=OutputHandler(mode=\"print\"))\n",
    "json_str\n"
   ]
  },
  {
   "cell_type": "code",
   "execution_count": 16,
   "metadata": {},
   "outputs": [
    {
     "name": "stdout",
     "output_type": "stream",
     "text": [
      "{\n",
      "  \"user\": {\n",
      "    \"info\": {\n",
      "      \"personal\": {\n",
      "        \"name\": \"Kim Chul-soo\",\n",
      "        \"age\": 30,\n",
      "        \"skills\": [\n",
      "          \"Python\",\n",
      "          \"Data Analysis\"\n",
      "        ]\n",
      "      }\n",
      "    },\n",
      "    \"1234\": {\n",
      "      \"account_balance\": 50000.75\n",
      "    }\n",
      "  },\n",
      "  \"metadata\": {\n",
      "    \"datetime_obj\": \"2025-03-09 11:17:20.057951\",\n",
      "    \"function\": \"<function <lambda> at 0x7fa709887420>\",\n",
      "    \"ordered_dict\": {\n",
      "      \"a\": 1,\n",
      "      \"b\": 2\n",
      "    },\n",
      "    \"set_data\": \"{1, 2, 3, 4}\"\n",
      "  },\n",
      "  \"mixed_keys\": {\n",
      "    \"name\": \"Hong Gil-dong\",\n",
      "    \"123\": \"integer key\",\n",
      "    \"4.5\": \"float key\",\n",
      "    \"True\": \"boolean key\"\n",
      "  }\n",
      "}\n"
     ]
    }
   ],
   "source": [
    "dumps_object_safe(nested_data, indent=2, output_handler=OutputHandler(mode=\"print\"))"
   ]
  },
  {
   "cell_type": "code",
   "execution_count": 17,
   "metadata": {},
   "outputs": [],
   "source": [
    "dumps_object_safe(nested_data, indent=2, output_handler=OutputHandler(mode=\"save_file\", save_file_path=\"nested_data.json\"))"
   ]
  },
  {
   "cell_type": "code",
   "execution_count": 18,
   "metadata": {},
   "outputs": [
    {
     "name": "stdout",
     "output_type": "stream",
     "text": [
      "Error when using standard json.dumps:\n",
      "Object of type datetime is not JSON serializable\n"
     ]
    }
   ],
   "source": [
    "import json\n",
    "\n",
    "try:\n",
    "    standard_json = json.dumps(nested_data, indent=2)\n",
    "except TypeError as e:\n",
    "    print(f\"Error when using standard json.dumps:\\n{e}\")"
   ]
  }
 ],
 "metadata": {
  "kernelspec": {
   "display_name": "py-json",
   "language": "python",
   "name": "python3"
  },
  "language_info": {
   "codemirror_mode": {
    "name": "ipython",
    "version": 3
   },
   "file_extension": ".py",
   "mimetype": "text/x-python",
   "name": "python",
   "nbconvert_exporter": "python",
   "pygments_lexer": "ipython3",
   "version": "3.12.9"
  }
 },
 "nbformat": 4,
 "nbformat_minor": 2
}
